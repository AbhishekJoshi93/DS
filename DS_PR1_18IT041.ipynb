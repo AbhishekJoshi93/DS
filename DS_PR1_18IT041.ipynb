{
  "nbformat": 4,
  "nbformat_minor": 0,
  "metadata": {
    "colab": {
      "name": "DS_PR1_18IT041.ipynb",
      "provenance": [],
      "collapsed_sections": [],
      "include_colab_link": true
    },
    "kernelspec": {
      "name": "python3",
      "display_name": "Python 3"
    },
    "language_info": {
      "name": "python"
    }
  },
  "cells": [
    {
      "cell_type": "markdown",
      "metadata": {
        "id": "view-in-github",
        "colab_type": "text"
      },
      "source": [
        "<a href=\"https://colab.research.google.com/github/AbhishekJoshi93/DS/blob/master/DS_PR1_18IT041.ipynb\" target=\"_parent\"><img src=\"https://colab.research.google.com/assets/colab-badge.svg\" alt=\"Open In Colab\"/></a>"
      ]
    },
    {
      "cell_type": "code",
      "metadata": {
        "colab": {
          "base_uri": "https://localhost:8080/"
        },
        "id": "-2VXEr6gTWGy",
        "outputId": "e129b842-1881-42f7-8dc3-18d8e69c7809"
      },
      "source": [
        "pip install selenium"
      ],
      "execution_count": null,
      "outputs": [
        {
          "output_type": "stream",
          "text": [
            "Collecting selenium\n",
            "  Downloading selenium-3.141.0-py2.py3-none-any.whl (904 kB)\n",
            "\u001b[?25l\r\u001b[K     |▍                               | 10 kB 24.7 MB/s eta 0:00:01\r\u001b[K     |▊                               | 20 kB 12.3 MB/s eta 0:00:01\r\u001b[K     |█                               | 30 kB 10.4 MB/s eta 0:00:01\r\u001b[K     |█▌                              | 40 kB 9.1 MB/s eta 0:00:01\r\u001b[K     |█▉                              | 51 kB 5.1 MB/s eta 0:00:01\r\u001b[K     |██▏                             | 61 kB 5.2 MB/s eta 0:00:01\r\u001b[K     |██▌                             | 71 kB 5.2 MB/s eta 0:00:01\r\u001b[K     |███                             | 81 kB 5.9 MB/s eta 0:00:01\r\u001b[K     |███▎                            | 92 kB 6.1 MB/s eta 0:00:01\r\u001b[K     |███▋                            | 102 kB 4.9 MB/s eta 0:00:01\r\u001b[K     |████                            | 112 kB 4.9 MB/s eta 0:00:01\r\u001b[K     |████▍                           | 122 kB 4.9 MB/s eta 0:00:01\r\u001b[K     |████▊                           | 133 kB 4.9 MB/s eta 0:00:01\r\u001b[K     |█████                           | 143 kB 4.9 MB/s eta 0:00:01\r\u001b[K     |█████▍                          | 153 kB 4.9 MB/s eta 0:00:01\r\u001b[K     |█████▉                          | 163 kB 4.9 MB/s eta 0:00:01\r\u001b[K     |██████▏                         | 174 kB 4.9 MB/s eta 0:00:01\r\u001b[K     |██████▌                         | 184 kB 4.9 MB/s eta 0:00:01\r\u001b[K     |██████▉                         | 194 kB 4.9 MB/s eta 0:00:01\r\u001b[K     |███████▎                        | 204 kB 4.9 MB/s eta 0:00:01\r\u001b[K     |███████▋                        | 215 kB 4.9 MB/s eta 0:00:01\r\u001b[K     |████████                        | 225 kB 4.9 MB/s eta 0:00:01\r\u001b[K     |████████▎                       | 235 kB 4.9 MB/s eta 0:00:01\r\u001b[K     |████████▊                       | 245 kB 4.9 MB/s eta 0:00:01\r\u001b[K     |█████████                       | 256 kB 4.9 MB/s eta 0:00:01\r\u001b[K     |█████████▍                      | 266 kB 4.9 MB/s eta 0:00:01\r\u001b[K     |█████████▉                      | 276 kB 4.9 MB/s eta 0:00:01\r\u001b[K     |██████████▏                     | 286 kB 4.9 MB/s eta 0:00:01\r\u001b[K     |██████████▌                     | 296 kB 4.9 MB/s eta 0:00:01\r\u001b[K     |██████████▉                     | 307 kB 4.9 MB/s eta 0:00:01\r\u001b[K     |███████████▎                    | 317 kB 4.9 MB/s eta 0:00:01\r\u001b[K     |███████████▋                    | 327 kB 4.9 MB/s eta 0:00:01\r\u001b[K     |████████████                    | 337 kB 4.9 MB/s eta 0:00:01\r\u001b[K     |████████████▎                   | 348 kB 4.9 MB/s eta 0:00:01\r\u001b[K     |████████████▊                   | 358 kB 4.9 MB/s eta 0:00:01\r\u001b[K     |█████████████                   | 368 kB 4.9 MB/s eta 0:00:01\r\u001b[K     |█████████████▍                  | 378 kB 4.9 MB/s eta 0:00:01\r\u001b[K     |█████████████▊                  | 389 kB 4.9 MB/s eta 0:00:01\r\u001b[K     |██████████████▏                 | 399 kB 4.9 MB/s eta 0:00:01\r\u001b[K     |██████████████▌                 | 409 kB 4.9 MB/s eta 0:00:01\r\u001b[K     |██████████████▉                 | 419 kB 4.9 MB/s eta 0:00:01\r\u001b[K     |███████████████▏                | 430 kB 4.9 MB/s eta 0:00:01\r\u001b[K     |███████████████▋                | 440 kB 4.9 MB/s eta 0:00:01\r\u001b[K     |████████████████                | 450 kB 4.9 MB/s eta 0:00:01\r\u001b[K     |████████████████▎               | 460 kB 4.9 MB/s eta 0:00:01\r\u001b[K     |████████████████▋               | 471 kB 4.9 MB/s eta 0:00:01\r\u001b[K     |█████████████████               | 481 kB 4.9 MB/s eta 0:00:01\r\u001b[K     |█████████████████▍              | 491 kB 4.9 MB/s eta 0:00:01\r\u001b[K     |█████████████████▊              | 501 kB 4.9 MB/s eta 0:00:01\r\u001b[K     |██████████████████▏             | 512 kB 4.9 MB/s eta 0:00:01\r\u001b[K     |██████████████████▌             | 522 kB 4.9 MB/s eta 0:00:01\r\u001b[K     |██████████████████▉             | 532 kB 4.9 MB/s eta 0:00:01\r\u001b[K     |███████████████████▏            | 542 kB 4.9 MB/s eta 0:00:01\r\u001b[K     |███████████████████▋            | 552 kB 4.9 MB/s eta 0:00:01\r\u001b[K     |████████████████████            | 563 kB 4.9 MB/s eta 0:00:01\r\u001b[K     |████████████████████▎           | 573 kB 4.9 MB/s eta 0:00:01\r\u001b[K     |████████████████████▋           | 583 kB 4.9 MB/s eta 0:00:01\r\u001b[K     |█████████████████████           | 593 kB 4.9 MB/s eta 0:00:01\r\u001b[K     |█████████████████████▍          | 604 kB 4.9 MB/s eta 0:00:01\r\u001b[K     |█████████████████████▊          | 614 kB 4.9 MB/s eta 0:00:01\r\u001b[K     |██████████████████████          | 624 kB 4.9 MB/s eta 0:00:01\r\u001b[K     |██████████████████████▌         | 634 kB 4.9 MB/s eta 0:00:01\r\u001b[K     |██████████████████████▉         | 645 kB 4.9 MB/s eta 0:00:01\r\u001b[K     |███████████████████████▏        | 655 kB 4.9 MB/s eta 0:00:01\r\u001b[K     |███████████████████████▌        | 665 kB 4.9 MB/s eta 0:00:01\r\u001b[K     |████████████████████████        | 675 kB 4.9 MB/s eta 0:00:01\r\u001b[K     |████████████████████████▎       | 686 kB 4.9 MB/s eta 0:00:01\r\u001b[K     |████████████████████████▋       | 696 kB 4.9 MB/s eta 0:00:01\r\u001b[K     |█████████████████████████       | 706 kB 4.9 MB/s eta 0:00:01\r\u001b[K     |█████████████████████████▍      | 716 kB 4.9 MB/s eta 0:00:01\r\u001b[K     |█████████████████████████▊      | 727 kB 4.9 MB/s eta 0:00:01\r\u001b[K     |██████████████████████████      | 737 kB 4.9 MB/s eta 0:00:01\r\u001b[K     |██████████████████████████▍     | 747 kB 4.9 MB/s eta 0:00:01\r\u001b[K     |██████████████████████████▉     | 757 kB 4.9 MB/s eta 0:00:01\r\u001b[K     |███████████████████████████▏    | 768 kB 4.9 MB/s eta 0:00:01\r\u001b[K     |███████████████████████████▌    | 778 kB 4.9 MB/s eta 0:00:01\r\u001b[K     |████████████████████████████    | 788 kB 4.9 MB/s eta 0:00:01\r\u001b[K     |████████████████████████████▎   | 798 kB 4.9 MB/s eta 0:00:01\r\u001b[K     |████████████████████████████▋   | 808 kB 4.9 MB/s eta 0:00:01\r\u001b[K     |█████████████████████████████   | 819 kB 4.9 MB/s eta 0:00:01\r\u001b[K     |█████████████████████████████▍  | 829 kB 4.9 MB/s eta 0:00:01\r\u001b[K     |█████████████████████████████▊  | 839 kB 4.9 MB/s eta 0:00:01\r\u001b[K     |██████████████████████████████  | 849 kB 4.9 MB/s eta 0:00:01\r\u001b[K     |██████████████████████████████▍ | 860 kB 4.9 MB/s eta 0:00:01\r\u001b[K     |██████████████████████████████▉ | 870 kB 4.9 MB/s eta 0:00:01\r\u001b[K     |███████████████████████████████▏| 880 kB 4.9 MB/s eta 0:00:01\r\u001b[K     |███████████████████████████████▌| 890 kB 4.9 MB/s eta 0:00:01\r\u001b[K     |███████████████████████████████▉| 901 kB 4.9 MB/s eta 0:00:01\r\u001b[K     |████████████████████████████████| 904 kB 4.9 MB/s \n",
            "\u001b[?25hRequirement already satisfied: urllib3 in /usr/local/lib/python3.7/dist-packages (from selenium) (1.24.3)\n",
            "Installing collected packages: selenium\n",
            "Successfully installed selenium-3.141.0\n"
          ],
          "name": "stdout"
        }
      ]
    },
    {
      "cell_type": "code",
      "metadata": {
        "colab": {
          "base_uri": "https://localhost:8080/"
        },
        "id": "i5j-3yRSUmzU",
        "outputId": "4d18bd28-2fa5-4ed7-8a04-3e10f1315a19"
      },
      "source": [
        "!apt install chromium-chromedriver"
      ],
      "execution_count": null,
      "outputs": [
        {
          "output_type": "stream",
          "text": [
            "Reading package lists... Done\n",
            "Building dependency tree       \n",
            "Reading state information... Done\n",
            "The following additional packages will be installed:\n",
            "  chromium-browser chromium-browser-l10n chromium-codecs-ffmpeg-extra\n",
            "Suggested packages:\n",
            "  webaccounts-chromium-extension unity-chromium-extension\n",
            "The following NEW packages will be installed:\n",
            "  chromium-browser chromium-browser-l10n chromium-chromedriver\n",
            "  chromium-codecs-ffmpeg-extra\n",
            "0 upgraded, 4 newly installed, 0 to remove and 40 not upgraded.\n",
            "Need to get 86.0 MB of archives.\n",
            "After this operation, 298 MB of additional disk space will be used.\n",
            "Get:1 http://archive.ubuntu.com/ubuntu bionic-updates/universe amd64 chromium-codecs-ffmpeg-extra amd64 91.0.4472.101-0ubuntu0.18.04.1 [1,124 kB]\n",
            "Get:2 http://archive.ubuntu.com/ubuntu bionic-updates/universe amd64 chromium-browser amd64 91.0.4472.101-0ubuntu0.18.04.1 [76.1 MB]\n",
            "Get:3 http://archive.ubuntu.com/ubuntu bionic-updates/universe amd64 chromium-browser-l10n all 91.0.4472.101-0ubuntu0.18.04.1 [3,937 kB]\n",
            "Get:4 http://archive.ubuntu.com/ubuntu bionic-updates/universe amd64 chromium-chromedriver amd64 91.0.4472.101-0ubuntu0.18.04.1 [4,837 kB]\n",
            "Fetched 86.0 MB in 4s (23.5 MB/s)\n",
            "Selecting previously unselected package chromium-codecs-ffmpeg-extra.\n",
            "(Reading database ... 160837 files and directories currently installed.)\n",
            "Preparing to unpack .../chromium-codecs-ffmpeg-extra_91.0.4472.101-0ubuntu0.18.04.1_amd64.deb ...\n",
            "Unpacking chromium-codecs-ffmpeg-extra (91.0.4472.101-0ubuntu0.18.04.1) ...\n",
            "Selecting previously unselected package chromium-browser.\n",
            "Preparing to unpack .../chromium-browser_91.0.4472.101-0ubuntu0.18.04.1_amd64.deb ...\n",
            "Unpacking chromium-browser (91.0.4472.101-0ubuntu0.18.04.1) ...\n",
            "Selecting previously unselected package chromium-browser-l10n.\n",
            "Preparing to unpack .../chromium-browser-l10n_91.0.4472.101-0ubuntu0.18.04.1_all.deb ...\n",
            "Unpacking chromium-browser-l10n (91.0.4472.101-0ubuntu0.18.04.1) ...\n",
            "Selecting previously unselected package chromium-chromedriver.\n",
            "Preparing to unpack .../chromium-chromedriver_91.0.4472.101-0ubuntu0.18.04.1_amd64.deb ...\n",
            "Unpacking chromium-chromedriver (91.0.4472.101-0ubuntu0.18.04.1) ...\n",
            "Setting up chromium-codecs-ffmpeg-extra (91.0.4472.101-0ubuntu0.18.04.1) ...\n",
            "Setting up chromium-browser (91.0.4472.101-0ubuntu0.18.04.1) ...\n",
            "update-alternatives: using /usr/bin/chromium-browser to provide /usr/bin/x-www-browser (x-www-browser) in auto mode\n",
            "update-alternatives: using /usr/bin/chromium-browser to provide /usr/bin/gnome-www-browser (gnome-www-browser) in auto mode\n",
            "Setting up chromium-chromedriver (91.0.4472.101-0ubuntu0.18.04.1) ...\n",
            "Setting up chromium-browser-l10n (91.0.4472.101-0ubuntu0.18.04.1) ...\n",
            "Processing triggers for man-db (2.8.3-2ubuntu0.1) ...\n",
            "Processing triggers for hicolor-icon-theme (0.17-2) ...\n",
            "Processing triggers for mime-support (3.60ubuntu1) ...\n",
            "Processing triggers for libc-bin (2.27-3ubuntu1.2) ...\n",
            "/sbin/ldconfig.real: /usr/local/lib/python3.7/dist-packages/ideep4py/lib/libmkldnn.so.0 is not a symbolic link\n",
            "\n"
          ],
          "name": "stdout"
        }
      ]
    },
    {
      "cell_type": "code",
      "metadata": {
        "colab": {
          "base_uri": "https://localhost:8080/"
        },
        "id": "EGy8goNrTYdm",
        "outputId": "f7de9e1a-2098-4cfd-a7da-367ef62c0d89"
      },
      "source": [
        "pip install beautifulsoup4"
      ],
      "execution_count": null,
      "outputs": [
        {
          "output_type": "stream",
          "text": [
            "Requirement already satisfied: beautifulsoup4 in /usr/local/lib/python3.7/dist-packages (4.6.3)\n"
          ],
          "name": "stdout"
        }
      ]
    },
    {
      "cell_type": "code",
      "metadata": {
        "id": "y68-VH6fTaXQ"
      },
      "source": [
        "from selenium import webdriver"
      ],
      "execution_count": null,
      "outputs": []
    },
    {
      "cell_type": "code",
      "metadata": {
        "id": "lMb_pBuVTx2T"
      },
      "source": [
        "from bs4 import BeautifulSoup"
      ],
      "execution_count": null,
      "outputs": []
    },
    {
      "cell_type": "code",
      "metadata": {
        "id": "aSKqp2RzTzLV"
      },
      "source": [
        "import pandas as pd"
      ],
      "execution_count": null,
      "outputs": []
    },
    {
      "cell_type": "code",
      "metadata": {
        "colab": {
          "base_uri": "https://localhost:8080/"
        },
        "id": "vO45EU5AT1FH",
        "outputId": "140e32ff-7f09-4261-9b62-f2c4f8559efd"
      },
      "source": [
        "from selenium import webdriver\n",
        "chrome_options = webdriver.ChromeOptions()\n",
        "chrome_options.add_argument('--headless')\n",
        "chrome_options.add_argument('--no-sandbox')\n",
        "chrome_options.add_argument('--disable-dev-shm-usage')\n",
        "wd = webdriver.Chrome('chromedriver',chrome_options=chrome_options)\n",
        "driver =webdriver.Chrome('chromedriver',chrome_options=chrome_options)\n",
        "driver.get(\"https://www.flipkart.com/search?q=iphone&as=on&as-show=on&otracker=AS_Query_OrganicAutoSuggest_3_3_na_na_ps&otracker1=AS_Query_OrganicAutoSuggest_3_3_na_na_ps&as-pos=3&as-type=RECENT&suggestionId=iphone&requestId=bbecf4ae-be6c-4c59-8e3f-c03665370d42&as-backfill=on\")\n",
        "content = driver.page_source\n",
        "soup = BeautifulSoup(content)"
      ],
      "execution_count": null,
      "outputs": [
        {
          "output_type": "stream",
          "text": [
            "/usr/local/lib/python3.7/dist-packages/ipykernel_launcher.py:6: DeprecationWarning: use options instead of chrome_options\n",
            "  \n",
            "/usr/local/lib/python3.7/dist-packages/ipykernel_launcher.py:7: DeprecationWarning: use options instead of chrome_options\n",
            "  import sys\n"
          ],
          "name": "stderr"
        }
      ]
    },
    {
      "cell_type": "code",
      "metadata": {
        "id": "EylPqw1fT26q"
      },
      "source": [
        "products=[]\n",
        "prices=[]\n",
        "features=[]"
      ],
      "execution_count": null,
      "outputs": []
    },
    {
      "cell_type": "code",
      "metadata": {
        "id": "5jua06w7U188"
      },
      "source": [
        "for a in soup.findAll('a',href=True, attrs={'class':'_1fQZEK'}):\n",
        "    name=a.find('div',attrs={'class':'_4rR01T'})\n",
        "    price=a.find('div',attrs={'class':'_30jeq3 _1_WHN1'})\n",
        "    feature=a.find('div',attrs={'class':'fMghEO'})\n",
        "    products.append(name.text)\n",
        "    prices.append(price.text)\n",
        "    features.append(feature.text)"
      ],
      "execution_count": null,
      "outputs": []
    },
    {
      "cell_type": "code",
      "metadata": {
        "colab": {
          "base_uri": "https://localhost:8080/"
        },
        "id": "2PyCEZzYU5C3",
        "outputId": "8c67d12e-2187-448a-b64d-63ba8caeed2f"
      },
      "source": [
        "df = pd.DataFrame({'Product Name':products,'Price':prices , 'Feature':features})\n",
        "print(df.head(10))"
      ],
      "execution_count": null,
      "outputs": [
        {
          "output_type": "stream",
          "text": [
            "                           Product Name  ...                                            Feature\n",
            "0        APPLE iPhone 12 (Blue, 128 GB)  ...  128 GB ROM15.49 cm (6.1 inch) Super Retina XDR...\n",
            "1       APPLE iPhone 12 (Black, 128 GB)  ...  128 GB ROM15.49 cm (6.1 inch) Super Retina XDR...\n",
            "2       APPLE iPhone 12 (White, 128 GB)  ...  128 GB ROM15.49 cm (6.1 inch) Super Retina XDR...\n",
            "3       APPLE iPhone 12 (Green, 128 GB)  ...  128 GB ROM15.49 cm (6.1 inch) Super Retina XDR...\n",
            "4        APPLE iPhone XR (White, 64 GB)  ...  64 GB ROM15.49 cm (6.1 inch) Display12MP Rear ...\n",
            "5         APPLE iPhone 12 (Blue, 64 GB)  ...  64 GB ROM15.49 cm (6.1 inch) Super Retina XDR ...\n",
            "6       APPLE iPhone SE (White, 128 GB)  ...  128 GB ROM11.94 cm (4.7 inch) Retina HD Displa...\n",
            "7  APPLE iPhone 12 Mini (Black, 128 GB)  ...  128 GB ROM13.72 cm (5.4 inch) Super Retina XDR...\n",
            "8        APPLE iPhone 11 (Black, 64 GB)  ...  64 GB ROM15.49 cm (6.1 inch) Liquid Retina HD ...\n",
            "9         APPLE iPhone SE (Red, 128 GB)  ...  128 GB ROM11.94 cm (4.7 inch) Retina HD Displa...\n",
            "\n",
            "[10 rows x 3 columns]\n"
          ],
          "name": "stdout"
        }
      ]
    },
    {
      "cell_type": "code",
      "metadata": {
        "id": "rgvL9Ba4VGgz"
      },
      "source": [
        "df.to_csv('products.csv', index=False, encoding='utf-8')"
      ],
      "execution_count": null,
      "outputs": []
    },
    {
      "cell_type": "code",
      "metadata": {
        "id": "eizz6aYWuVSQ"
      },
      "source": [
        ""
      ],
      "execution_count": null,
      "outputs": []
    }
  ]
}