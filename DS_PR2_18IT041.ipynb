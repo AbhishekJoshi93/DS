{
  "nbformat": 4,
  "nbformat_minor": 0,
  "metadata": {
    "colab": {
      "name": "DS_PR2_18IT041.ipynb",
      "provenance": [],
      "include_colab_link": true
    },
    "kernelspec": {
      "name": "python3",
      "display_name": "Python 3"
    },
    "language_info": {
      "name": "python"
    }
  },
  "cells": [
    {
      "cell_type": "markdown",
      "metadata": {
        "id": "view-in-github",
        "colab_type": "text"
      },
      "source": [
        "<a href=\"https://colab.research.google.com/github/AbhishekJoshi93/DS/blob/master/DS_PR2_18IT041.ipynb\" target=\"_parent\"><img src=\"https://colab.research.google.com/assets/colab-badge.svg\" alt=\"Open In Colab\"/></a>"
      ]
    },
    {
      "cell_type": "markdown",
      "metadata": {
        "id": "ggDZUWcQ8jjc"
      },
      "source": [
        "## Importing Libraries"
      ]
    },
    {
      "cell_type": "code",
      "metadata": {
        "id": "CdIU01dX6xsm"
      },
      "source": [
        "import numpy as np\n",
        "import pandas as pd\n",
        "import matplotlib.pyplot as plt"
      ],
      "execution_count": 1,
      "outputs": []
    },
    {
      "cell_type": "markdown",
      "metadata": {
        "id": "LMrK5nHq8f0w"
      },
      "source": [
        "## Loading Dataset "
      ]
    },
    {
      "cell_type": "code",
      "metadata": {
        "colab": {
          "base_uri": "https://localhost:8080/"
        },
        "id": "C3G2rmRL7PUY",
        "outputId": "b171e8da-488c-4fc8-a6e2-c6caf9c18b3c"
      },
      "source": [
        "data = pd.read_csv('/content/data.csv')\n",
        "data.info()"
      ],
      "execution_count": 2,
      "outputs": [
        {
          "output_type": "stream",
          "text": [
            "<class 'pandas.core.frame.DataFrame'>\n",
            "RangeIndex: 15210 entries, 0 to 15209\n",
            "Data columns (total 10 columns):\n",
            " #   Column              Non-Null Count  Dtype  \n",
            "---  ------              --------------  -----  \n",
            " 0   longitude           15210 non-null  float64\n",
            " 1   latitude            15210 non-null  float64\n",
            " 2   housing_median_age  15210 non-null  float64\n",
            " 3   total_rooms         15210 non-null  float64\n",
            " 4   total_bedrooms      15062 non-null  float64\n",
            " 5   population          15210 non-null  float64\n",
            " 6   households          15210 non-null  float64\n",
            " 7   median_income       15210 non-null  float64\n",
            " 8   median_house_value  15210 non-null  float64\n",
            " 9   ocean_proximity     15209 non-null  object \n",
            "dtypes: float64(9), object(1)\n",
            "memory usage: 1.2+ MB\n"
          ],
          "name": "stdout"
        }
      ]
    },
    {
      "cell_type": "code",
      "metadata": {
        "colab": {
          "base_uri": "https://localhost:8080/",
          "height": 357
        },
        "id": "EVB88ofr7lM_",
        "outputId": "a8c2f618-a007-46f6-97ad-6f47532824bd"
      },
      "source": [
        "data.head(10)"
      ],
      "execution_count": 3,
      "outputs": [
        {
          "output_type": "execute_result",
          "data": {
            "text/html": [
              "<div>\n",
              "<style scoped>\n",
              "    .dataframe tbody tr th:only-of-type {\n",
              "        vertical-align: middle;\n",
              "    }\n",
              "\n",
              "    .dataframe tbody tr th {\n",
              "        vertical-align: top;\n",
              "    }\n",
              "\n",
              "    .dataframe thead th {\n",
              "        text-align: right;\n",
              "    }\n",
              "</style>\n",
              "<table border=\"1\" class=\"dataframe\">\n",
              "  <thead>\n",
              "    <tr style=\"text-align: right;\">\n",
              "      <th></th>\n",
              "      <th>longitude</th>\n",
              "      <th>latitude</th>\n",
              "      <th>housing_median_age</th>\n",
              "      <th>total_rooms</th>\n",
              "      <th>total_bedrooms</th>\n",
              "      <th>population</th>\n",
              "      <th>households</th>\n",
              "      <th>median_income</th>\n",
              "      <th>median_house_value</th>\n",
              "      <th>ocean_proximity</th>\n",
              "    </tr>\n",
              "  </thead>\n",
              "  <tbody>\n",
              "    <tr>\n",
              "      <th>0</th>\n",
              "      <td>-122.23</td>\n",
              "      <td>37.88</td>\n",
              "      <td>41.0</td>\n",
              "      <td>880.0</td>\n",
              "      <td>129.0</td>\n",
              "      <td>322.0</td>\n",
              "      <td>126.0</td>\n",
              "      <td>8.3252</td>\n",
              "      <td>452600.0</td>\n",
              "      <td>NEAR BAY</td>\n",
              "    </tr>\n",
              "    <tr>\n",
              "      <th>1</th>\n",
              "      <td>-122.22</td>\n",
              "      <td>37.86</td>\n",
              "      <td>21.0</td>\n",
              "      <td>7099.0</td>\n",
              "      <td>1106.0</td>\n",
              "      <td>2401.0</td>\n",
              "      <td>1138.0</td>\n",
              "      <td>8.3014</td>\n",
              "      <td>358500.0</td>\n",
              "      <td>NEAR BAY</td>\n",
              "    </tr>\n",
              "    <tr>\n",
              "      <th>2</th>\n",
              "      <td>-122.24</td>\n",
              "      <td>37.85</td>\n",
              "      <td>52.0</td>\n",
              "      <td>1467.0</td>\n",
              "      <td>190.0</td>\n",
              "      <td>496.0</td>\n",
              "      <td>177.0</td>\n",
              "      <td>7.2574</td>\n",
              "      <td>352100.0</td>\n",
              "      <td>NEAR BAY</td>\n",
              "    </tr>\n",
              "    <tr>\n",
              "      <th>3</th>\n",
              "      <td>-122.25</td>\n",
              "      <td>37.85</td>\n",
              "      <td>52.0</td>\n",
              "      <td>1274.0</td>\n",
              "      <td>235.0</td>\n",
              "      <td>558.0</td>\n",
              "      <td>219.0</td>\n",
              "      <td>5.6431</td>\n",
              "      <td>341300.0</td>\n",
              "      <td>NEAR BAY</td>\n",
              "    </tr>\n",
              "    <tr>\n",
              "      <th>4</th>\n",
              "      <td>-122.25</td>\n",
              "      <td>37.85</td>\n",
              "      <td>52.0</td>\n",
              "      <td>1627.0</td>\n",
              "      <td>280.0</td>\n",
              "      <td>565.0</td>\n",
              "      <td>259.0</td>\n",
              "      <td>3.8462</td>\n",
              "      <td>342200.0</td>\n",
              "      <td>NEAR BAY</td>\n",
              "    </tr>\n",
              "    <tr>\n",
              "      <th>5</th>\n",
              "      <td>-122.25</td>\n",
              "      <td>37.85</td>\n",
              "      <td>52.0</td>\n",
              "      <td>919.0</td>\n",
              "      <td>213.0</td>\n",
              "      <td>413.0</td>\n",
              "      <td>193.0</td>\n",
              "      <td>4.0368</td>\n",
              "      <td>269700.0</td>\n",
              "      <td>NEAR BAY</td>\n",
              "    </tr>\n",
              "    <tr>\n",
              "      <th>6</th>\n",
              "      <td>-122.25</td>\n",
              "      <td>37.84</td>\n",
              "      <td>52.0</td>\n",
              "      <td>2535.0</td>\n",
              "      <td>489.0</td>\n",
              "      <td>1094.0</td>\n",
              "      <td>514.0</td>\n",
              "      <td>3.6591</td>\n",
              "      <td>299200.0</td>\n",
              "      <td>NEAR BAY</td>\n",
              "    </tr>\n",
              "    <tr>\n",
              "      <th>7</th>\n",
              "      <td>-122.25</td>\n",
              "      <td>37.84</td>\n",
              "      <td>52.0</td>\n",
              "      <td>3104.0</td>\n",
              "      <td>687.0</td>\n",
              "      <td>1157.0</td>\n",
              "      <td>647.0</td>\n",
              "      <td>3.1200</td>\n",
              "      <td>241400.0</td>\n",
              "      <td>NEAR BAY</td>\n",
              "    </tr>\n",
              "    <tr>\n",
              "      <th>8</th>\n",
              "      <td>-122.26</td>\n",
              "      <td>37.84</td>\n",
              "      <td>42.0</td>\n",
              "      <td>2555.0</td>\n",
              "      <td>665.0</td>\n",
              "      <td>1206.0</td>\n",
              "      <td>595.0</td>\n",
              "      <td>2.0804</td>\n",
              "      <td>226700.0</td>\n",
              "      <td>NEAR BAY</td>\n",
              "    </tr>\n",
              "    <tr>\n",
              "      <th>9</th>\n",
              "      <td>-122.25</td>\n",
              "      <td>37.84</td>\n",
              "      <td>52.0</td>\n",
              "      <td>3549.0</td>\n",
              "      <td>707.0</td>\n",
              "      <td>1551.0</td>\n",
              "      <td>714.0</td>\n",
              "      <td>3.6912</td>\n",
              "      <td>261100.0</td>\n",
              "      <td>NEAR BAY</td>\n",
              "    </tr>\n",
              "  </tbody>\n",
              "</table>\n",
              "</div>"
            ],
            "text/plain": [
              "   longitude  latitude  ...  median_house_value  ocean_proximity\n",
              "0    -122.23     37.88  ...            452600.0         NEAR BAY\n",
              "1    -122.22     37.86  ...            358500.0         NEAR BAY\n",
              "2    -122.24     37.85  ...            352100.0         NEAR BAY\n",
              "3    -122.25     37.85  ...            341300.0         NEAR BAY\n",
              "4    -122.25     37.85  ...            342200.0         NEAR BAY\n",
              "5    -122.25     37.85  ...            269700.0         NEAR BAY\n",
              "6    -122.25     37.84  ...            299200.0         NEAR BAY\n",
              "7    -122.25     37.84  ...            241400.0         NEAR BAY\n",
              "8    -122.26     37.84  ...            226700.0         NEAR BAY\n",
              "9    -122.25     37.84  ...            261100.0         NEAR BAY\n",
              "\n",
              "[10 rows x 10 columns]"
            ]
          },
          "metadata": {},
          "execution_count": 3
        }
      ]
    },
    {
      "cell_type": "markdown",
      "metadata": {
        "id": "S0kPesx58bSU"
      },
      "source": [
        "## Encoding Technique"
      ]
    },
    {
      "cell_type": "code",
      "metadata": {
        "colab": {
          "base_uri": "https://localhost:8080/"
        },
        "id": "GPUoGR3o71kZ",
        "outputId": "652271e8-f637-4b78-f2dd-5a55354a3d66"
      },
      "source": [
        "from sklearn.preprocessing import LabelEncoder\n",
        "data['median_house_value'].value_counts()"
      ],
      "execution_count": 4,
      "outputs": [
        {
          "output_type": "execute_result",
          "data": {
            "text/plain": [
              "500001.0    619\n",
              "137500.0     97\n",
              "162500.0     94\n",
              "112500.0     75\n",
              "187500.0     69\n",
              "           ... \n",
              "409000.0      1\n",
              "232300.0      1\n",
              "358100.0      1\n",
              "338100.0      1\n",
              "432100.0      1\n",
              "Name: median_house_value, Length: 3525, dtype: int64"
            ]
          },
          "metadata": {},
          "execution_count": 4
        }
      ]
    },
    {
      "cell_type": "code",
      "metadata": {
        "colab": {
          "base_uri": "https://localhost:8080/"
        },
        "id": "8li0ZGgR8CGf",
        "outputId": "4617ad85-1404-498a-b130-1a3922aeba20"
      },
      "source": [
        "le=LabelEncoder()\n",
        "data['median_house_value']=le.fit_transform(data['median_house_value'])\n",
        "data['median_house_value'].value_counts()"
      ],
      "execution_count": 5,
      "outputs": [
        {
          "output_type": "execute_result",
          "data": {
            "text/plain": [
              "3524    619\n",
              "937      97\n",
              "1187     94\n",
              "688      75\n",
              "1437     69\n",
              "       ... \n",
              "3242      1\n",
              "3250      1\n",
              "3258      1\n",
              "3274      1\n",
              "0         1\n",
              "Name: median_house_value, Length: 3525, dtype: int64"
            ]
          },
          "metadata": {},
          "execution_count": 5
        }
      ]
    },
    {
      "cell_type": "code",
      "metadata": {
        "colab": {
          "base_uri": "https://localhost:8080/"
        },
        "id": "2fnWQ_RO8Gn3",
        "outputId": "ffccf04c-a2bc-4d8b-c4dd-ce28ccc2e2ec"
      },
      "source": [
        "le.classes_"
      ],
      "execution_count": 6,
      "outputs": [
        {
          "output_type": "execute_result",
          "data": {
            "text/plain": [
              "array([2.30000e+01, 1.49990e+04, 1.75000e+04, ..., 4.99100e+05,\n",
              "       5.00000e+05, 5.00001e+05])"
            ]
          },
          "metadata": {},
          "execution_count": 6
        }
      ]
    },
    {
      "cell_type": "markdown",
      "metadata": {
        "id": "eqy5mNwS86TJ"
      },
      "source": [
        "## Normalization & Standardization"
      ]
    },
    {
      "cell_type": "code",
      "metadata": {
        "colab": {
          "base_uri": "https://localhost:8080/"
        },
        "id": "JSZyVRdS8O7b",
        "outputId": "7a262131-fca1-4780-8ec9-350f9bdefaba"
      },
      "source": [
        "numeric_columns = [c for c in data.columns if data[c].dtype != np.dtype('O')]\n",
        "numeric_columns"
      ],
      "execution_count": 7,
      "outputs": [
        {
          "output_type": "execute_result",
          "data": {
            "text/plain": [
              "['longitude',\n",
              " 'latitude',\n",
              " 'housing_median_age',\n",
              " 'total_rooms',\n",
              " 'total_bedrooms',\n",
              " 'population',\n",
              " 'households',\n",
              " 'median_income',\n",
              " 'median_house_value']"
            ]
          },
          "metadata": {},
          "execution_count": 7
        }
      ]
    },
    {
      "cell_type": "code",
      "metadata": {
        "colab": {
          "base_uri": "https://localhost:8080/"
        },
        "id": "KHW0Be3y8-n8",
        "outputId": "d4479f83-9091-4940-a903-0a1061fbcfa2"
      },
      "source": [
        "len(numeric_columns) , len(data.columns)"
      ],
      "execution_count": 8,
      "outputs": [
        {
          "output_type": "execute_result",
          "data": {
            "text/plain": [
              "(9, 10)"
            ]
          },
          "metadata": {},
          "execution_count": 8
        }
      ]
    },
    {
      "cell_type": "code",
      "metadata": {
        "colab": {
          "base_uri": "https://localhost:8080/",
          "height": 417
        },
        "id": "ATrnREy59BIX",
        "outputId": "72bcdf6e-69df-4dd4-e874-3f859e99b91d"
      },
      "source": [
        "numeric_columns.remove('longitude')\n",
        "numeric_columns.remove('latitude')\n",
        "\n",
        "temp_data = data[numeric_columns]\n",
        "temp_data"
      ],
      "execution_count": 9,
      "outputs": [
        {
          "output_type": "execute_result",
          "data": {
            "text/html": [
              "<div>\n",
              "<style scoped>\n",
              "    .dataframe tbody tr th:only-of-type {\n",
              "        vertical-align: middle;\n",
              "    }\n",
              "\n",
              "    .dataframe tbody tr th {\n",
              "        vertical-align: top;\n",
              "    }\n",
              "\n",
              "    .dataframe thead th {\n",
              "        text-align: right;\n",
              "    }\n",
              "</style>\n",
              "<table border=\"1\" class=\"dataframe\">\n",
              "  <thead>\n",
              "    <tr style=\"text-align: right;\">\n",
              "      <th></th>\n",
              "      <th>housing_median_age</th>\n",
              "      <th>total_rooms</th>\n",
              "      <th>total_bedrooms</th>\n",
              "      <th>population</th>\n",
              "      <th>households</th>\n",
              "      <th>median_income</th>\n",
              "      <th>median_house_value</th>\n",
              "    </tr>\n",
              "  </thead>\n",
              "  <tbody>\n",
              "    <tr>\n",
              "      <th>0</th>\n",
              "      <td>41.0</td>\n",
              "      <td>880.0</td>\n",
              "      <td>129.0</td>\n",
              "      <td>322.0</td>\n",
              "      <td>126.0</td>\n",
              "      <td>8.3252</td>\n",
              "      <td>3380</td>\n",
              "    </tr>\n",
              "    <tr>\n",
              "      <th>1</th>\n",
              "      <td>21.0</td>\n",
              "      <td>7099.0</td>\n",
              "      <td>1106.0</td>\n",
              "      <td>2401.0</td>\n",
              "      <td>1138.0</td>\n",
              "      <td>8.3014</td>\n",
              "      <td>2921</td>\n",
              "    </tr>\n",
              "    <tr>\n",
              "      <th>2</th>\n",
              "      <td>52.0</td>\n",
              "      <td>1467.0</td>\n",
              "      <td>190.0</td>\n",
              "      <td>496.0</td>\n",
              "      <td>177.0</td>\n",
              "      <td>7.2574</td>\n",
              "      <td>2876</td>\n",
              "    </tr>\n",
              "    <tr>\n",
              "      <th>3</th>\n",
              "      <td>52.0</td>\n",
              "      <td>1274.0</td>\n",
              "      <td>235.0</td>\n",
              "      <td>558.0</td>\n",
              "      <td>219.0</td>\n",
              "      <td>5.6431</td>\n",
              "      <td>2795</td>\n",
              "    </tr>\n",
              "    <tr>\n",
              "      <th>4</th>\n",
              "      <td>52.0</td>\n",
              "      <td>1627.0</td>\n",
              "      <td>280.0</td>\n",
              "      <td>565.0</td>\n",
              "      <td>259.0</td>\n",
              "      <td>3.8462</td>\n",
              "      <td>2801</td>\n",
              "    </tr>\n",
              "    <tr>\n",
              "      <th>...</th>\n",
              "      <td>...</td>\n",
              "      <td>...</td>\n",
              "      <td>...</td>\n",
              "      <td>...</td>\n",
              "      <td>...</td>\n",
              "      <td>...</td>\n",
              "      <td>...</td>\n",
              "    </tr>\n",
              "    <tr>\n",
              "      <th>15205</th>\n",
              "      <td>5.0</td>\n",
              "      <td>5870.0</td>\n",
              "      <td>977.0</td>\n",
              "      <td>1917.0</td>\n",
              "      <td>842.0</td>\n",
              "      <td>5.1998</td>\n",
              "      <td>2433</td>\n",
              "    </tr>\n",
              "    <tr>\n",
              "      <th>15206</th>\n",
              "      <td>9.0</td>\n",
              "      <td>2470.0</td>\n",
              "      <td>417.0</td>\n",
              "      <td>904.0</td>\n",
              "      <td>427.0</td>\n",
              "      <td>4.4219</td>\n",
              "      <td>1649</td>\n",
              "    </tr>\n",
              "    <tr>\n",
              "      <th>15207</th>\n",
              "      <td>4.0</td>\n",
              "      <td>6242.0</td>\n",
              "      <td>1258.0</td>\n",
              "      <td>2211.0</td>\n",
              "      <td>1116.0</td>\n",
              "      <td>4.2500</td>\n",
              "      <td>2323</td>\n",
              "    </tr>\n",
              "    <tr>\n",
              "      <th>15208</th>\n",
              "      <td>4.0</td>\n",
              "      <td>9153.0</td>\n",
              "      <td>1866.0</td>\n",
              "      <td>3775.0</td>\n",
              "      <td>1698.0</td>\n",
              "      <td>4.9550</td>\n",
              "      <td>1967</td>\n",
              "    </tr>\n",
              "    <tr>\n",
              "      <th>15209</th>\n",
              "      <td>5.0</td>\n",
              "      <td>5659.0</td>\n",
              "      <td>931.0</td>\n",
              "      <td>2565.0</td>\n",
              "      <td>902.0</td>\n",
              "      <td>6.1949</td>\n",
              "      <td>0</td>\n",
              "    </tr>\n",
              "  </tbody>\n",
              "</table>\n",
              "<p>15210 rows × 7 columns</p>\n",
              "</div>"
            ],
            "text/plain": [
              "       housing_median_age  total_rooms  ...  median_income  median_house_value\n",
              "0                    41.0        880.0  ...         8.3252                3380\n",
              "1                    21.0       7099.0  ...         8.3014                2921\n",
              "2                    52.0       1467.0  ...         7.2574                2876\n",
              "3                    52.0       1274.0  ...         5.6431                2795\n",
              "4                    52.0       1627.0  ...         3.8462                2801\n",
              "...                   ...          ...  ...            ...                 ...\n",
              "15205                 5.0       5870.0  ...         5.1998                2433\n",
              "15206                 9.0       2470.0  ...         4.4219                1649\n",
              "15207                 4.0       6242.0  ...         4.2500                2323\n",
              "15208                 4.0       9153.0  ...         4.9550                1967\n",
              "15209                 5.0       5659.0  ...         6.1949                   0\n",
              "\n",
              "[15210 rows x 7 columns]"
            ]
          },
          "metadata": {},
          "execution_count": 9
        }
      ]
    },
    {
      "cell_type": "markdown",
      "metadata": {
        "id": "oOdnjdG39IAv"
      },
      "source": [
        "## 1. Normalization"
      ]
    },
    {
      "cell_type": "code",
      "metadata": {
        "colab": {
          "base_uri": "https://localhost:8080/",
          "height": 417
        },
        "id": "i57le6Iv9EWB",
        "outputId": "6db556e7-21ac-44f3-efaf-137a96146149"
      },
      "source": [
        "from sklearn.preprocessing import StandardScaler , MinMaxScaler\n",
        "import warnings\n",
        "warnings.filterwarnings('ignore')\n",
        "normalizer = MinMaxScaler()\n",
        "temp_data.dropna(axis = 1 , inplace = True)\n",
        "normalized_data = normalizer.fit_transform(temp_data)\n",
        "pd.DataFrame(normalized_data , columns = temp_data.columns)"
      ],
      "execution_count": 10,
      "outputs": [
        {
          "output_type": "execute_result",
          "data": {
            "text/html": [
              "<div>\n",
              "<style scoped>\n",
              "    .dataframe tbody tr th:only-of-type {\n",
              "        vertical-align: middle;\n",
              "    }\n",
              "\n",
              "    .dataframe tbody tr th {\n",
              "        vertical-align: top;\n",
              "    }\n",
              "\n",
              "    .dataframe thead th {\n",
              "        text-align: right;\n",
              "    }\n",
              "</style>\n",
              "<table border=\"1\" class=\"dataframe\">\n",
              "  <thead>\n",
              "    <tr style=\"text-align: right;\">\n",
              "      <th></th>\n",
              "      <th>housing_median_age</th>\n",
              "      <th>total_rooms</th>\n",
              "      <th>population</th>\n",
              "      <th>households</th>\n",
              "      <th>median_income</th>\n",
              "      <th>median_house_value</th>\n",
              "    </tr>\n",
              "  </thead>\n",
              "  <tbody>\n",
              "    <tr>\n",
              "      <th>0</th>\n",
              "      <td>0.784314</td>\n",
              "      <td>0.022331</td>\n",
              "      <td>0.011168</td>\n",
              "      <td>0.020395</td>\n",
              "      <td>0.539668</td>\n",
              "      <td>0.959137</td>\n",
              "    </tr>\n",
              "    <tr>\n",
              "      <th>1</th>\n",
              "      <td>0.392157</td>\n",
              "      <td>0.180503</td>\n",
              "      <td>0.083955</td>\n",
              "      <td>0.186842</td>\n",
              "      <td>0.538027</td>\n",
              "      <td>0.828888</td>\n",
              "    </tr>\n",
              "    <tr>\n",
              "      <th>2</th>\n",
              "      <td>1.000000</td>\n",
              "      <td>0.037260</td>\n",
              "      <td>0.017260</td>\n",
              "      <td>0.028783</td>\n",
              "      <td>0.466028</td>\n",
              "      <td>0.816118</td>\n",
              "    </tr>\n",
              "    <tr>\n",
              "      <th>3</th>\n",
              "      <td>1.000000</td>\n",
              "      <td>0.032352</td>\n",
              "      <td>0.019431</td>\n",
              "      <td>0.035691</td>\n",
              "      <td>0.354699</td>\n",
              "      <td>0.793133</td>\n",
              "    </tr>\n",
              "    <tr>\n",
              "      <th>4</th>\n",
              "      <td>1.000000</td>\n",
              "      <td>0.041330</td>\n",
              "      <td>0.019676</td>\n",
              "      <td>0.042270</td>\n",
              "      <td>0.230776</td>\n",
              "      <td>0.794835</td>\n",
              "    </tr>\n",
              "    <tr>\n",
              "      <th>...</th>\n",
              "      <td>...</td>\n",
              "      <td>...</td>\n",
              "      <td>...</td>\n",
              "      <td>...</td>\n",
              "      <td>...</td>\n",
              "      <td>...</td>\n",
              "    </tr>\n",
              "    <tr>\n",
              "      <th>15205</th>\n",
              "      <td>0.078431</td>\n",
              "      <td>0.149245</td>\n",
              "      <td>0.067010</td>\n",
              "      <td>0.138158</td>\n",
              "      <td>0.324127</td>\n",
              "      <td>0.690409</td>\n",
              "    </tr>\n",
              "    <tr>\n",
              "      <th>15206</th>\n",
              "      <td>0.156863</td>\n",
              "      <td>0.062770</td>\n",
              "      <td>0.031544</td>\n",
              "      <td>0.069901</td>\n",
              "      <td>0.270479</td>\n",
              "      <td>0.467934</td>\n",
              "    </tr>\n",
              "    <tr>\n",
              "      <th>15207</th>\n",
              "      <td>0.058824</td>\n",
              "      <td>0.158706</td>\n",
              "      <td>0.077303</td>\n",
              "      <td>0.183224</td>\n",
              "      <td>0.258624</td>\n",
              "      <td>0.659194</td>\n",
              "    </tr>\n",
              "    <tr>\n",
              "      <th>15208</th>\n",
              "      <td>0.058824</td>\n",
              "      <td>0.232743</td>\n",
              "      <td>0.132059</td>\n",
              "      <td>0.278947</td>\n",
              "      <td>0.307244</td>\n",
              "      <td>0.558173</td>\n",
              "    </tr>\n",
              "    <tr>\n",
              "      <th>15209</th>\n",
              "      <td>0.078431</td>\n",
              "      <td>0.143878</td>\n",
              "      <td>0.089696</td>\n",
              "      <td>0.148026</td>\n",
              "      <td>0.392753</td>\n",
              "      <td>0.000000</td>\n",
              "    </tr>\n",
              "  </tbody>\n",
              "</table>\n",
              "<p>15210 rows × 6 columns</p>\n",
              "</div>"
            ],
            "text/plain": [
              "       housing_median_age  total_rooms  ...  median_income  median_house_value\n",
              "0                0.784314     0.022331  ...       0.539668            0.959137\n",
              "1                0.392157     0.180503  ...       0.538027            0.828888\n",
              "2                1.000000     0.037260  ...       0.466028            0.816118\n",
              "3                1.000000     0.032352  ...       0.354699            0.793133\n",
              "4                1.000000     0.041330  ...       0.230776            0.794835\n",
              "...                   ...          ...  ...            ...                 ...\n",
              "15205            0.078431     0.149245  ...       0.324127            0.690409\n",
              "15206            0.156863     0.062770  ...       0.270479            0.467934\n",
              "15207            0.058824     0.158706  ...       0.258624            0.659194\n",
              "15208            0.058824     0.232743  ...       0.307244            0.558173\n",
              "15209            0.078431     0.143878  ...       0.392753            0.000000\n",
              "\n",
              "[15210 rows x 6 columns]"
            ]
          },
          "metadata": {},
          "execution_count": 10
        }
      ]
    },
    {
      "cell_type": "markdown",
      "metadata": {
        "id": "fpQNp3vN9R3N"
      },
      "source": [
        "## 2. Standardization  "
      ]
    },
    {
      "cell_type": "code",
      "metadata": {
        "colab": {
          "base_uri": "https://localhost:8080/",
          "height": 417
        },
        "id": "NkdC1mQ09PKa",
        "outputId": "07bfdd4b-9fac-4e3d-d194-08a7c037ae8f"
      },
      "source": [
        "standard_scaler = StandardScaler()\n",
        "standardized_data = standard_scaler.fit_transform(temp_data)\n",
        "pd.DataFrame(standardized_data , columns = temp_data.columns)"
      ],
      "execution_count": 11,
      "outputs": [
        {
          "output_type": "execute_result",
          "data": {
            "text/html": [
              "<div>\n",
              "<style scoped>\n",
              "    .dataframe tbody tr th:only-of-type {\n",
              "        vertical-align: middle;\n",
              "    }\n",
              "\n",
              "    .dataframe tbody tr th {\n",
              "        vertical-align: top;\n",
              "    }\n",
              "\n",
              "    .dataframe thead th {\n",
              "        text-align: right;\n",
              "    }\n",
              "</style>\n",
              "<table border=\"1\" class=\"dataframe\">\n",
              "  <thead>\n",
              "    <tr style=\"text-align: right;\">\n",
              "      <th></th>\n",
              "      <th>housing_median_age</th>\n",
              "      <th>total_rooms</th>\n",
              "      <th>population</th>\n",
              "      <th>households</th>\n",
              "      <th>median_income</th>\n",
              "      <th>median_house_value</th>\n",
              "    </tr>\n",
              "  </thead>\n",
              "  <tbody>\n",
              "    <tr>\n",
              "      <th>0</th>\n",
              "      <td>0.973698</td>\n",
              "      <td>-0.776039</td>\n",
              "      <td>-0.981303</td>\n",
              "      <td>-0.956224</td>\n",
              "      <td>2.394548</td>\n",
              "      <td>2.067873</td>\n",
              "    </tr>\n",
              "    <tr>\n",
              "      <th>1</th>\n",
              "      <td>-0.643594</td>\n",
              "      <td>1.967562</td>\n",
              "      <td>0.838438</td>\n",
              "      <td>1.611185</td>\n",
              "      <td>2.381946</td>\n",
              "      <td>1.573426</td>\n",
              "    </tr>\n",
              "    <tr>\n",
              "      <th>2</th>\n",
              "      <td>1.863208</td>\n",
              "      <td>-0.517075</td>\n",
              "      <td>-0.829001</td>\n",
              "      <td>-0.826839</td>\n",
              "      <td>1.829125</td>\n",
              "      <td>1.524951</td>\n",
              "    </tr>\n",
              "    <tr>\n",
              "      <th>3</th>\n",
              "      <td>1.863208</td>\n",
              "      <td>-0.602220</td>\n",
              "      <td>-0.774733</td>\n",
              "      <td>-0.720286</td>\n",
              "      <td>0.974317</td>\n",
              "      <td>1.437695</td>\n",
              "    </tr>\n",
              "    <tr>\n",
              "      <th>4</th>\n",
              "      <td>1.863208</td>\n",
              "      <td>-0.446489</td>\n",
              "      <td>-0.768606</td>\n",
              "      <td>-0.618808</td>\n",
              "      <td>0.022819</td>\n",
              "      <td>1.444158</td>\n",
              "    </tr>\n",
              "    <tr>\n",
              "      <th>...</th>\n",
              "      <td>...</td>\n",
              "      <td>...</td>\n",
              "      <td>...</td>\n",
              "      <td>...</td>\n",
              "      <td>...</td>\n",
              "      <td>...</td>\n",
              "    </tr>\n",
              "    <tr>\n",
              "      <th>15205</th>\n",
              "      <td>-1.937427</td>\n",
              "      <td>1.425371</td>\n",
              "      <td>0.414795</td>\n",
              "      <td>0.860243</td>\n",
              "      <td>0.739580</td>\n",
              "      <td>1.047739</td>\n",
              "    </tr>\n",
              "    <tr>\n",
              "      <th>15206</th>\n",
              "      <td>-1.613969</td>\n",
              "      <td>-0.074588</td>\n",
              "      <td>-0.471880</td>\n",
              "      <td>-0.192598</td>\n",
              "      <td>0.327665</td>\n",
              "      <td>0.203192</td>\n",
              "    </tr>\n",
              "    <tr>\n",
              "      <th>15207</th>\n",
              "      <td>-2.018292</td>\n",
              "      <td>1.589484</td>\n",
              "      <td>0.672132</td>\n",
              "      <td>1.555371</td>\n",
              "      <td>0.236640</td>\n",
              "      <td>0.929244</td>\n",
              "    </tr>\n",
              "    <tr>\n",
              "      <th>15208</th>\n",
              "      <td>-2.018292</td>\n",
              "      <td>2.873713</td>\n",
              "      <td>2.041095</td>\n",
              "      <td>3.031885</td>\n",
              "      <td>0.609953</td>\n",
              "      <td>0.545750</td>\n",
              "    </tr>\n",
              "    <tr>\n",
              "      <th>15209</th>\n",
              "      <td>-1.937427</td>\n",
              "      <td>1.332285</td>\n",
              "      <td>0.981987</td>\n",
              "      <td>1.012461</td>\n",
              "      <td>1.266508</td>\n",
              "      <td>-1.573157</td>\n",
              "    </tr>\n",
              "  </tbody>\n",
              "</table>\n",
              "<p>15210 rows × 6 columns</p>\n",
              "</div>"
            ],
            "text/plain": [
              "       housing_median_age  total_rooms  ...  median_income  median_house_value\n",
              "0                0.973698    -0.776039  ...       2.394548            2.067873\n",
              "1               -0.643594     1.967562  ...       2.381946            1.573426\n",
              "2                1.863208    -0.517075  ...       1.829125            1.524951\n",
              "3                1.863208    -0.602220  ...       0.974317            1.437695\n",
              "4                1.863208    -0.446489  ...       0.022819            1.444158\n",
              "...                   ...          ...  ...            ...                 ...\n",
              "15205           -1.937427     1.425371  ...       0.739580            1.047739\n",
              "15206           -1.613969    -0.074588  ...       0.327665            0.203192\n",
              "15207           -2.018292     1.589484  ...       0.236640            0.929244\n",
              "15208           -2.018292     2.873713  ...       0.609953            0.545750\n",
              "15209           -1.937427     1.332285  ...       1.266508           -1.573157\n",
              "\n",
              "[15210 rows x 6 columns]"
            ]
          },
          "metadata": {},
          "execution_count": 11
        }
      ]
    },
    {
      "cell_type": "markdown",
      "metadata": {
        "id": "qEszK4Hf9jIA"
      },
      "source": [
        "## Handling With Missing Values"
      ]
    },
    {
      "cell_type": "code",
      "metadata": {
        "colab": {
          "base_uri": "https://localhost:8080/"
        },
        "id": "ibOgBI5l9e38",
        "outputId": "8cec7e35-8226-48a2-902c-844be6713962"
      },
      "source": [
        "data.isnull().sum()"
      ],
      "execution_count": 12,
      "outputs": [
        {
          "output_type": "execute_result",
          "data": {
            "text/plain": [
              "longitude               0\n",
              "latitude                0\n",
              "housing_median_age      0\n",
              "total_rooms             0\n",
              "total_bedrooms        148\n",
              "population              0\n",
              "households              0\n",
              "median_income           0\n",
              "median_house_value      0\n",
              "ocean_proximity         1\n",
              "dtype: int64"
            ]
          },
          "metadata": {},
          "execution_count": 12
        }
      ]
    },
    {
      "cell_type": "code",
      "metadata": {
        "colab": {
          "base_uri": "https://localhost:8080/"
        },
        "id": "0-fmsDi59oka",
        "outputId": "d0de6a48-bc57-4a1c-b6af-a38d681f7104"
      },
      "source": [
        "data['total_bedrooms'].isnull().sum()"
      ],
      "execution_count": 13,
      "outputs": [
        {
          "output_type": "execute_result",
          "data": {
            "text/plain": [
              "148"
            ]
          },
          "metadata": {},
          "execution_count": 13
        }
      ]
    },
    {
      "cell_type": "code",
      "metadata": {
        "colab": {
          "base_uri": "https://localhost:8080/"
        },
        "id": "rXVywiey9rqR",
        "outputId": "2472e7de-6ff2-42ea-a7dd-f9a5b323d292"
      },
      "source": [
        "from sklearn.impute import SimpleImputer\n",
        "imputer = SimpleImputer(missing_values=np.nan , strategy='mean')\n",
        "agent_col = imputer.fit_transform(data['total_bedrooms'].values.reshape(-1,1))\n",
        "pd.DataFrame(agent_col).isnull().sum()"
      ],
      "execution_count": 14,
      "outputs": [
        {
          "output_type": "execute_result",
          "data": {
            "text/plain": [
              "0    0\n",
              "dtype: int64"
            ]
          },
          "metadata": {},
          "execution_count": 14
        }
      ]
    },
    {
      "cell_type": "code",
      "metadata": {
        "colab": {
          "base_uri": "https://localhost:8080/"
        },
        "id": "Qd1N_SCs9uNO",
        "outputId": "895f757d-e97b-4a86-93e7-ed572dbdb20f"
      },
      "source": [
        "data['total_bedrooms'].isnull().sum()"
      ],
      "execution_count": 15,
      "outputs": [
        {
          "output_type": "execute_result",
          "data": {
            "text/plain": [
              "148"
            ]
          },
          "metadata": {},
          "execution_count": 15
        }
      ]
    },
    {
      "cell_type": "markdown",
      "metadata": {
        "id": "xfYQkg5V92Lu"
      },
      "source": [
        "## Discretization"
      ]
    },
    {
      "cell_type": "code",
      "metadata": {
        "colab": {
          "base_uri": "https://localhost:8080/",
          "height": 203
        },
        "id": "OmsB6E7D9wtg",
        "outputId": "5260beb9-117d-4b87-f813-9a6b9856650b"
      },
      "source": [
        "from sklearn.preprocessing import KBinsDiscretizer\n",
        "temp_data.head()"
      ],
      "execution_count": 16,
      "outputs": [
        {
          "output_type": "execute_result",
          "data": {
            "text/html": [
              "<div>\n",
              "<style scoped>\n",
              "    .dataframe tbody tr th:only-of-type {\n",
              "        vertical-align: middle;\n",
              "    }\n",
              "\n",
              "    .dataframe tbody tr th {\n",
              "        vertical-align: top;\n",
              "    }\n",
              "\n",
              "    .dataframe thead th {\n",
              "        text-align: right;\n",
              "    }\n",
              "</style>\n",
              "<table border=\"1\" class=\"dataframe\">\n",
              "  <thead>\n",
              "    <tr style=\"text-align: right;\">\n",
              "      <th></th>\n",
              "      <th>housing_median_age</th>\n",
              "      <th>total_rooms</th>\n",
              "      <th>population</th>\n",
              "      <th>households</th>\n",
              "      <th>median_income</th>\n",
              "      <th>median_house_value</th>\n",
              "    </tr>\n",
              "  </thead>\n",
              "  <tbody>\n",
              "    <tr>\n",
              "      <th>0</th>\n",
              "      <td>41.0</td>\n",
              "      <td>880.0</td>\n",
              "      <td>322.0</td>\n",
              "      <td>126.0</td>\n",
              "      <td>8.3252</td>\n",
              "      <td>3380</td>\n",
              "    </tr>\n",
              "    <tr>\n",
              "      <th>1</th>\n",
              "      <td>21.0</td>\n",
              "      <td>7099.0</td>\n",
              "      <td>2401.0</td>\n",
              "      <td>1138.0</td>\n",
              "      <td>8.3014</td>\n",
              "      <td>2921</td>\n",
              "    </tr>\n",
              "    <tr>\n",
              "      <th>2</th>\n",
              "      <td>52.0</td>\n",
              "      <td>1467.0</td>\n",
              "      <td>496.0</td>\n",
              "      <td>177.0</td>\n",
              "      <td>7.2574</td>\n",
              "      <td>2876</td>\n",
              "    </tr>\n",
              "    <tr>\n",
              "      <th>3</th>\n",
              "      <td>52.0</td>\n",
              "      <td>1274.0</td>\n",
              "      <td>558.0</td>\n",
              "      <td>219.0</td>\n",
              "      <td>5.6431</td>\n",
              "      <td>2795</td>\n",
              "    </tr>\n",
              "    <tr>\n",
              "      <th>4</th>\n",
              "      <td>52.0</td>\n",
              "      <td>1627.0</td>\n",
              "      <td>565.0</td>\n",
              "      <td>259.0</td>\n",
              "      <td>3.8462</td>\n",
              "      <td>2801</td>\n",
              "    </tr>\n",
              "  </tbody>\n",
              "</table>\n",
              "</div>"
            ],
            "text/plain": [
              "   housing_median_age  total_rooms  ...  median_income  median_house_value\n",
              "0                41.0        880.0  ...         8.3252                3380\n",
              "1                21.0       7099.0  ...         8.3014                2921\n",
              "2                52.0       1467.0  ...         7.2574                2876\n",
              "3                52.0       1274.0  ...         5.6431                2795\n",
              "4                52.0       1627.0  ...         3.8462                2801\n",
              "\n",
              "[5 rows x 6 columns]"
            ]
          },
          "metadata": {},
          "execution_count": 16
        }
      ]
    },
    {
      "cell_type": "code",
      "metadata": {
        "colab": {
          "base_uri": "https://localhost:8080/",
          "height": 417
        },
        "id": "oWxRoi3H-Pa0",
        "outputId": "7c81de7c-1030-4477-e528-4276c9b75456"
      },
      "source": [
        "trans = KBinsDiscretizer(n_bins =10 , encode = 'ordinal' , strategy='kmeans')\n",
        "new_data = trans.fit_transform(temp_data)\n",
        "\n",
        "pd.DataFrame(new_data,columns = temp_data.columns )"
      ],
      "execution_count": 17,
      "outputs": [
        {
          "output_type": "execute_result",
          "data": {
            "text/html": [
              "<div>\n",
              "<style scoped>\n",
              "    .dataframe tbody tr th:only-of-type {\n",
              "        vertical-align: middle;\n",
              "    }\n",
              "\n",
              "    .dataframe tbody tr th {\n",
              "        vertical-align: top;\n",
              "    }\n",
              "\n",
              "    .dataframe thead th {\n",
              "        text-align: right;\n",
              "    }\n",
              "</style>\n",
              "<table border=\"1\" class=\"dataframe\">\n",
              "  <thead>\n",
              "    <tr style=\"text-align: right;\">\n",
              "      <th></th>\n",
              "      <th>housing_median_age</th>\n",
              "      <th>total_rooms</th>\n",
              "      <th>population</th>\n",
              "      <th>households</th>\n",
              "      <th>median_income</th>\n",
              "      <th>median_house_value</th>\n",
              "    </tr>\n",
              "  </thead>\n",
              "  <tbody>\n",
              "    <tr>\n",
              "      <th>0</th>\n",
              "      <td>7.0</td>\n",
              "      <td>0.0</td>\n",
              "      <td>0.0</td>\n",
              "      <td>0.0</td>\n",
              "      <td>6.0</td>\n",
              "      <td>9.0</td>\n",
              "    </tr>\n",
              "    <tr>\n",
              "      <th>1</th>\n",
              "      <td>3.0</td>\n",
              "      <td>4.0</td>\n",
              "      <td>3.0</td>\n",
              "      <td>4.0</td>\n",
              "      <td>6.0</td>\n",
              "      <td>8.0</td>\n",
              "    </tr>\n",
              "    <tr>\n",
              "      <th>2</th>\n",
              "      <td>9.0</td>\n",
              "      <td>1.0</td>\n",
              "      <td>0.0</td>\n",
              "      <td>0.0</td>\n",
              "      <td>6.0</td>\n",
              "      <td>8.0</td>\n",
              "    </tr>\n",
              "    <tr>\n",
              "      <th>3</th>\n",
              "      <td>9.0</td>\n",
              "      <td>0.0</td>\n",
              "      <td>0.0</td>\n",
              "      <td>0.0</td>\n",
              "      <td>4.0</td>\n",
              "      <td>7.0</td>\n",
              "    </tr>\n",
              "    <tr>\n",
              "      <th>4</th>\n",
              "      <td>9.0</td>\n",
              "      <td>1.0</td>\n",
              "      <td>0.0</td>\n",
              "      <td>1.0</td>\n",
              "      <td>3.0</td>\n",
              "      <td>7.0</td>\n",
              "    </tr>\n",
              "    <tr>\n",
              "      <th>...</th>\n",
              "      <td>...</td>\n",
              "      <td>...</td>\n",
              "      <td>...</td>\n",
              "      <td>...</td>\n",
              "      <td>...</td>\n",
              "      <td>...</td>\n",
              "    </tr>\n",
              "    <tr>\n",
              "      <th>15205</th>\n",
              "      <td>0.0</td>\n",
              "      <td>4.0</td>\n",
              "      <td>2.0</td>\n",
              "      <td>4.0</td>\n",
              "      <td>4.0</td>\n",
              "      <td>7.0</td>\n",
              "    </tr>\n",
              "    <tr>\n",
              "      <th>15206</th>\n",
              "      <td>1.0</td>\n",
              "      <td>2.0</td>\n",
              "      <td>1.0</td>\n",
              "      <td>2.0</td>\n",
              "      <td>3.0</td>\n",
              "      <td>5.0</td>\n",
              "    </tr>\n",
              "    <tr>\n",
              "      <th>15207</th>\n",
              "      <td>0.0</td>\n",
              "      <td>4.0</td>\n",
              "      <td>2.0</td>\n",
              "      <td>4.0</td>\n",
              "      <td>3.0</td>\n",
              "      <td>6.0</td>\n",
              "    </tr>\n",
              "    <tr>\n",
              "      <th>15208</th>\n",
              "      <td>0.0</td>\n",
              "      <td>5.0</td>\n",
              "      <td>4.0</td>\n",
              "      <td>6.0</td>\n",
              "      <td>4.0</td>\n",
              "      <td>5.0</td>\n",
              "    </tr>\n",
              "    <tr>\n",
              "      <th>15209</th>\n",
              "      <td>0.0</td>\n",
              "      <td>4.0</td>\n",
              "      <td>3.0</td>\n",
              "      <td>4.0</td>\n",
              "      <td>5.0</td>\n",
              "      <td>0.0</td>\n",
              "    </tr>\n",
              "  </tbody>\n",
              "</table>\n",
              "<p>15210 rows × 6 columns</p>\n",
              "</div>"
            ],
            "text/plain": [
              "       housing_median_age  total_rooms  ...  median_income  median_house_value\n",
              "0                     7.0          0.0  ...            6.0                 9.0\n",
              "1                     3.0          4.0  ...            6.0                 8.0\n",
              "2                     9.0          1.0  ...            6.0                 8.0\n",
              "3                     9.0          0.0  ...            4.0                 7.0\n",
              "4                     9.0          1.0  ...            3.0                 7.0\n",
              "...                   ...          ...  ...            ...                 ...\n",
              "15205                 0.0          4.0  ...            4.0                 7.0\n",
              "15206                 1.0          2.0  ...            3.0                 5.0\n",
              "15207                 0.0          4.0  ...            3.0                 6.0\n",
              "15208                 0.0          5.0  ...            4.0                 5.0\n",
              "15209                 0.0          4.0  ...            5.0                 0.0\n",
              "\n",
              "[15210 rows x 6 columns]"
            ]
          },
          "metadata": {},
          "execution_count": 17
        }
      ]
    }
  ]
}